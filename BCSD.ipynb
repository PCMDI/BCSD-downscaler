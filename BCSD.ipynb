{
 "cells": [
  {
   "cell_type": "markdown",
   "id": "e8781ac4",
   "metadata": {},
   "source": [
    "# Bias Correction & Spacial Disaggregation Downscaling\n",
    "\n",
    "The purpose of this notebook is to work as utility, taking low resolution climate model data and scaling it to high resolution while correcting for bias by comparison with historical observation data.\n",
    "\n",
    "This notebook needs three things to run:\n",
    "```\n",
    "INPUT:\n",
    "    1. Historical low res obs data \n",
    "    2. Historical low res model data\n",
    "    3. low res model data of interest\n",
    "OUTPUT:\n",
    "    1. High-res version of the data from #3 above\n",
    "```"
   ]
  },
  {
   "cell_type": "code",
   "execution_count": 23,
   "id": "b1cfa926",
   "metadata": {},
   "outputs": [],
   "source": [
    "import numpy as np\n",
    "import xarray as xr\n",
    "import pandas as pd\n",
    "from tqdm import tqdm\n",
    "import bcsd"
   ]
  },
  {
   "cell_type": "markdown",
   "id": "b2ffa90d",
   "metadata": {},
   "source": [
    "# Obs data\n",
    "You're going to need an observation dataset with the same grid as your training model dataset over the training period.\n",
    "\n",
    "You can get a copy of the Princeton PRCP data by running the following:\n",
    "\n",
    "```\n",
    "wget http://hydrology.princeton.edu/data/pgf/v1/1.0deg/monthly/prcp_monthly_1948-2010.nc\n",
    "```\n",
    "\n",
    "# Model data\n",
    "You'll need a model dataset that overlaps in time with the obs dataset. It doesnt have to be a perfect 1:1 match, but the more intersection there is the better the results will be.\n",
    "\n",
    "You can get a copy of the INM-CM4 data by running the following:\n",
    "\n",
    "```\n",
    "wget https://esgf-data1.llnl.gov/thredds/fileServer/css03_data/CMIP6/CMIP/INM/INM-CM4-8/historical/r1i1p1f1/Amon/pr/gr1/v20190530/pr_Amon_INM-CM4-8_historical_r1i1p1f1_gr1_195001-199912.nc\n",
    "```"
   ]
  },
  {
   "cell_type": "code",
   "execution_count": 2,
   "id": "678ca031-bd34-499d-ba60-109f6489c082",
   "metadata": {},
   "outputs": [],
   "source": [
    "OBS_DATA_PATH = \"../BCSD-data/princeton/1.0deg/prcp_monthly_1948-2010.nc\"\n",
    "MODEL_DATA_PATH = \"../BCSD-data/INM/mon/pr_Amon_INM-CM4-8_historical_r1i1p1f1_gr1_195001-199912.nc\"\n",
    "OUTPUT_PATH = \"bias_corrected.nc\""
   ]
  },
  {
   "cell_type": "code",
   "execution_count": 24,
   "id": "152bd0dc",
   "metadata": {},
   "outputs": [],
   "source": [
    "try:\n",
    "    obs_data = xr.open_dataset(OBS_DATA_PATH).squeeze()\n",
    "except ValueError:\n",
    "#     If xarray isnt able to decode the time units, we're going to need to \n",
    "#     reconstruct them ourselves\n",
    "    obs_data = xr.open_dataset(OBS_DATA_PATH, decode_times=False).squeeze()\n",
    "    units, reference_date = obs_data.time.attrs['units'].split('since')\n",
    "    obs_data['time'] = pd.date_range(start=reference_date, periods=obs_data.sizes['time'], freq='MS')\n"
   ]
  },
  {
   "cell_type": "code",
   "execution_count": 25,
   "id": "7721ee4c",
   "metadata": {},
   "outputs": [],
   "source": [
    "model_data = xr.open_dataset(MODEL_DATA_PATH).squeeze() "
   ]
  },
  {
   "cell_type": "code",
   "execution_count": 26,
   "id": "364cb22b-15aa-4984-82f0-c7d24b02719f",
   "metadata": {},
   "outputs": [
    {
     "name": "stdout",
     "output_type": "stream",
     "text": [
      "Loaded the following model dataset\n",
      "<xarray.Dataset>\n",
      "Dimensions:    (time: 600, bnds: 2, longitude: 120, latitude: 180)\n",
      "Coordinates:\n",
      "  * time       (time) object 1950-01-16 12:00:00 ... 1999-12-16 12:00:00\n",
      "  * longitude  (longitude) float64 -89.25 -87.75 -86.25 ... 86.25 87.75 89.25\n",
      "  * latitude   (latitude) float64 0.0 2.0 4.0 6.0 ... 352.0 354.0 356.0 358.0\n",
      "Dimensions without coordinates: bnds\n",
      "Data variables:\n",
      "    time_bnds  (time, bnds) object ...\n",
      "    lat_bnds   (longitude, bnds) float64 ...\n",
      "    lon_bnds   (latitude, bnds) float64 ...\n",
      "    pr         (time, longitude, latitude) float32 ...\n",
      "Attributes: (12/47)\n",
      "    Conventions:            CF-1.7 CMIP-6.2\n",
      "    activity_id:            CMIP\n",
      "    branch_method:          standard\n",
      "    branch_time_in_child:   0.0\n",
      "    branch_time_in_parent:  35405.0\n",
      "    contact:                Evgeny Volodin (volodinev@gmail.com)\n",
      "    ...                     ...\n",
      "    title:                  INM-CM4-8 output prepared for CMIP6\n",
      "    tracking_id:            hdl:21.14100/29935edf-7e6c-43a4-86a4-78a0cc729e0d\n",
      "    variable_id:            pr\n",
      "    variant_label:          r1i1p1f1\n",
      "    license:                CMIP6 model data produced by Lawrence Livermore P...\n",
      "    cmor_version:           3.4.0\n",
      "\n",
      "\n",
      "Loaded the following obs dataset\n",
      "<xarray.Dataset>\n",
      "Dimensions:    (longitude: 360, latitude: 180, time: 756)\n",
      "Coordinates:\n",
      "  * longitude  (longitude) float32 0.5 1.5 2.5 3.5 ... 356.5 357.5 358.5 359.5\n",
      "  * latitude   (latitude) float32 -89.5 -88.5 -87.5 -86.5 ... 87.5 88.5 89.5\n",
      "    z          float32 0.0\n",
      "  * time       (time) datetime64[ns] 1948-01-01 1948-02-01 ... 2010-12-01\n",
      "Data variables:\n",
      "    prcp       (time, latitude, longitude) float32 ...\n",
      "Attributes:\n",
      "    history:      Wed Jan 21 11:53:31 EST 2015: created by JS using convert2a...\n",
      "    title:        Princeton University Hydroclimatology Group Bias Corrected ...\n",
      "    institution:  Princeton University\n",
      "    contact:      Justin Sheffield (justin@princeton.edu)\n",
      "    source:       Forcings are a hybrid of NCEP/NCAR reanalysis and observations\n",
      "    comment:      This is an update to the original version reported in Sheff...\n"
     ]
    }
   ],
   "source": [
    "# lets make sure the axis names are the same\n",
    "if 'latitude' not in model_data.dims:\n",
    "    model_data = model_data.rename({'lat': 'longitude', 'lon': 'latitude'})\n",
    "print(\"Loaded the following model dataset\")\n",
    "print(model_data)\n",
    "\n",
    "if 'latitude' not in obs_data.dims:\n",
    "    obs_data = obs_data.rename({'lat': 'longitude', 'lon': 'latitude'})\n",
    "print(\"\\n\\nLoaded the following obs dataset\")\n",
    "print(obs_data)"
   ]
  },
  {
   "cell_type": "markdown",
   "id": "77535845-5c42-4c6f-9c2e-5987c56083e7",
   "metadata": {},
   "source": [
    "### Now that we've loaded the obs and model data, we need to find the intersection where their time values overlap. \n",
    "\n",
    "We also need to check that the data formats for the time axes are the same.\n",
    "\n",
    "### Make sure to set the names of the obs and model variable"
   ]
  },
  {
   "cell_type": "code",
   "execution_count": 27,
   "id": "783f4e9b-f4d1-4994-b7be-d2fb88e39fa8",
   "metadata": {},
   "outputs": [],
   "source": [
    "obs_var = 'prcp'\n",
    "modeled_var = 'pr'"
   ]
  },
  {
   "cell_type": "code",
   "execution_count": 28,
   "id": "135ec46a-7b1f-4a34-8645-bb55ca013e30",
   "metadata": {},
   "outputs": [
    {
     "name": "stdout",
     "output_type": "stream",
     "text": [
      "Changing model time axis datatype from object to datetime64[ns]\n"
     ]
    },
    {
     "name": "stderr",
     "output_type": "stream",
     "text": [
      "/home/baldwin32/anaconda3/envs/bcsd/lib/python3.10/site-packages/xarray/coding/times.py:351: FutureWarning: Index.ravel returning ndarray is deprecated; in a future version this will return a view on self.\n",
      "  sample = dates.ravel()[0]\n",
      "/p/user_pub/e3sm/baldwin32/tmp/ipykernel_263860/3527666890.py:6: RuntimeWarning: Converting a CFTimeIndex with dates from a non-standard calendar, 'noleap', to a pandas.DatetimeIndex, which uses dates from the standard calendar.  This may lead to subtle errors in operations that depend on the length of time between dates.\n",
      "  model_time = model_data.indexes['time'].to_datetimeindex().values\n"
     ]
    }
   ],
   "source": [
    "# The Princeton datasets use CFTime objects for their time axis, \n",
    "# but some CMIP datasets use datetime64.\n",
    "\n",
    "if model_data.time.dtype != obs_data.time.dtype:\n",
    "    print(f\"Changing model time axis datatype from {model_data.time.dtype} to {obs_data.time.dtype}\")\n",
    "    model_time = model_data.indexes['time'].to_datetimeindex().values\n",
    "    model_data['time'] = model_time"
   ]
  },
  {
   "cell_type": "code",
   "execution_count": 29,
   "id": "11b193ca-c5fe-4a56-b484-1314dbbe4adc",
   "metadata": {},
   "outputs": [
    {
     "name": "stdout",
     "output_type": "stream",
     "text": [
      "aligning datasets time values by adding an 15 days offset to the obs data\n",
      "aligning datasets time values by adding an 12 hour offset to the obs data\n"
     ]
    }
   ],
   "source": [
    "# In my case, the Princeton obs dataset has its daily sample time\n",
    "# stamp at 00:00:00, but the model saves the daily time value at\n",
    "# 12:00:00, so we need bump up the obs dataset to realign its time values\n",
    "\n",
    "day_diff = pd.Timestamp(model_data.time[0].values).day - pd.Timestamp(obs_data.time[0].values).day\n",
    "if day_diff != 0:\n",
    "    print(f\"aligning datasets time values by adding an {day_diff} days offset to the obs data\")\n",
    "    for idx, val in enumerate(obs_data.time.values):\n",
    "        obs_data.time.values[idx] = val + np.timedelta64(day_diff, 'D')\n",
    "else:\n",
    "    print(\"datasets are time-aligned\") \n",
    "\n",
    "hour_diff = pd.Timestamp(model_data.time[0].values).hour - pd.Timestamp(obs_data.time[0].values).hour\n",
    "if hour_diff != 0:\n",
    "    print(f\"aligning datasets time values by adding an {hour_diff} hour offset to the obs data\")\n",
    "    for idx, val in enumerate(obs_data.time.values):\n",
    "        obs_data.time.values[idx] = val + np.timedelta64(hour_diff, 'h')\n",
    "else:\n",
    "    print(\"datasets are time-aligned\")"
   ]
  },
  {
   "cell_type": "code",
   "execution_count": 30,
   "id": "97e43e77-140d-407a-8549-6b291545ff3b",
   "metadata": {},
   "outputs": [
    {
     "name": "stdout",
     "output_type": "stream",
     "text": [
      "There were 350 overlapping time steps, starting at 1950-01-16T12:00:00.000000000 and going to 1999-12-16T12:00:00.000000000\n"
     ]
    }
   ],
   "source": [
    "# now we can pull out the intersection of the two datasets time axes\n",
    "d1 = obs_data.time.values\n",
    "d2 = model_data.time.values\n",
    "intersection = np.intersect1d(d1, d2)\n",
    "\n",
    "obs = obs_data.loc[dict(time=intersection)]\n",
    "model = model_data.loc[dict(time=intersection)]\n",
    "\n",
    "print(f\"There were {len(obs.time)} overlapping time steps, starting at {obs.time[0].values} and going to {obs.time[-1].values}\")"
   ]
  },
  {
   "cell_type": "code",
   "execution_count": 32,
   "id": "4b60801f-3bf0-4566-8c42-ea17b8b6036b",
   "metadata": {},
   "outputs": [
    {
     "data": {
      "text/plain": [
       "<matplotlib.collections.QuadMesh at 0x7f9f654d6b60>"
      ]
     },
     "execution_count": 32,
     "metadata": {},
     "output_type": "execute_result"
    },
    {
     "data": {
      "image/png": "[encoded data removed]",
      "text/plain": [
       "<Figure size 432x288 with 2 Axes>"
      ]
     },
     "metadata": {
      "needs_background": "light"
     },
     "output_type": "display_data"
    }
   ],
   "source": [
    "model.pr[0].plot()"
   ]
  },
  {
   "cell_type": "code",
   "execution_count": 11,
   "id": "6d838028-6566-4c21-828d-3e3aaf2dce6b",
   "metadata": {},
   "outputs": [
    {
     "data": {
      "text/plain": [
       "<matplotlib.collections.QuadMesh at 0x7f9f7139b1c0>"
      ]
     },
     "execution_count": 11,
     "metadata": {},
     "output_type": "execute_result"
    },
    {
     "data": {
      "image/png": "[encoded data removed]",
      "text/plain": [
       "<Figure size 432x288 with 2 Axes>"
      ]
     },
     "metadata": {
      "needs_background": "light"
     },
     "output_type": "display_data"
    }
   ],
   "source": [
    "obs.prcp[0].plot()"
   ]
  },
  {
   "cell_type": "markdown",
   "id": "e596c7d3-0454-4497-b7e0-85b472aa8c08",
   "metadata": {},
   "source": [
    "### Now we can initialize the output array"
   ]
  },
  {
   "cell_type": "code",
   "execution_count": 33,
   "id": "64c93412-0afa-4b78-9440-52acea4359af",
   "metadata": {},
   "outputs": [
    {
     "name": "stdout",
     "output_type": "stream",
     "text": [
      "Output array initialized with shape (350, 180, 120)\n"
     ]
    }
   ],
   "source": [
    "lat_vals = model.latitude.values\n",
    "lon_vals = model.longitude.values\n",
    "pool = 15\n",
    "# initialize the output data array\n",
    "mapped_data = np.zeros(shape=(intersection.shape[0], lat_vals.shape[0], lon_vals.shape[0]))\n",
    "print(f\"Output array initialized with shape {mapped_data.shape}\")"
   ]
  },
  {
   "cell_type": "code",
   "execution_count": 34,
   "id": "00e47f8c-aec7-4903-99d5-412e048a81da",
   "metadata": {},
   "outputs": [
    {
     "name": "stdout",
     "output_type": "stream",
     "text": [
      "Starting day 16\n"
     ]
    },
    {
     "name": "stderr",
     "output_type": "stream",
     "text": [
      "180it [01:21,  2.22it/s]\n"
     ]
    },
    {
     "name": "stdout",
     "output_type": "stream",
     "text": [
      "Starting day 75\n"
     ]
    },
    {
     "name": "stderr",
     "output_type": "stream",
     "text": [
      "180it [01:27,  2.05it/s]\n"
     ]
    },
    {
     "name": "stdout",
     "output_type": "stream",
     "text": [
      "Starting day 76\n"
     ]
    },
    {
     "name": "stderr",
     "output_type": "stream",
     "text": [
      "180it [01:23,  2.16it/s]\n"
     ]
    },
    {
     "name": "stdout",
     "output_type": "stream",
     "text": [
      "Starting day 136\n"
     ]
    },
    {
     "name": "stderr",
     "output_type": "stream",
     "text": [
      "180it [01:27,  2.06it/s]\n"
     ]
    },
    {
     "name": "stdout",
     "output_type": "stream",
     "text": [
      "Starting day 137\n"
     ]
    },
    {
     "name": "stderr",
     "output_type": "stream",
     "text": [
      "180it [01:20,  2.22it/s]\n"
     ]
    },
    {
     "name": "stdout",
     "output_type": "stream",
     "text": [
      "Starting day 197\n"
     ]
    },
    {
     "name": "stderr",
     "output_type": "stream",
     "text": [
      "180it [01:23,  2.15it/s]\n"
     ]
    },
    {
     "name": "stdout",
     "output_type": "stream",
     "text": [
      "Starting day 198\n"
     ]
    },
    {
     "name": "stderr",
     "output_type": "stream",
     "text": [
      "180it [01:19,  2.25it/s]\n"
     ]
    },
    {
     "name": "stdout",
     "output_type": "stream",
     "text": [
      "Starting day 228\n"
     ]
    },
    {
     "name": "stderr",
     "output_type": "stream",
     "text": [
      "180it [01:20,  2.23it/s]\n"
     ]
    },
    {
     "name": "stdout",
     "output_type": "stream",
     "text": [
      "Starting day 229\n"
     ]
    },
    {
     "name": "stderr",
     "output_type": "stream",
     "text": [
      "180it [01:20,  2.24it/s]\n"
     ]
    },
    {
     "name": "stdout",
     "output_type": "stream",
     "text": [
      "Starting day 289\n"
     ]
    },
    {
     "name": "stderr",
     "output_type": "stream",
     "text": [
      "180it [01:23,  2.16it/s]\n"
     ]
    },
    {
     "name": "stdout",
     "output_type": "stream",
     "text": [
      "Starting day 290\n"
     ]
    },
    {
     "name": "stderr",
     "output_type": "stream",
     "text": [
      "180it [01:20,  2.25it/s]\n"
     ]
    },
    {
     "name": "stdout",
     "output_type": "stream",
     "text": [
      "Starting day 350\n"
     ]
    },
    {
     "name": "stderr",
     "output_type": "stream",
     "text": [
      "180it [01:23,  2.15it/s]\n"
     ]
    },
    {
     "name": "stdout",
     "output_type": "stream",
     "text": [
      "Starting day 351\n"
     ]
    },
    {
     "name": "stderr",
     "output_type": "stream",
     "text": [
      "180it [01:20,  2.23it/s]\n"
     ]
    }
   ],
   "source": [
    "max_train_year = np.inf\n",
    "for day in np.unique(obs['time.dayofyear'].values):\n",
    "    print(f\"Starting day {day}\")\n",
    "    dayrange = (np.arange(day-pool, day+pool+1) + 366) % 366 + 1\n",
    "    days = np.in1d(obs['time.dayofyear'], dayrange)\n",
    "    \n",
    "    subobs = obs.loc[dict(time=days)]\n",
    "    submodel = model.loc[dict(time=days)]\n",
    "    \n",
    "    sub_curr_day_rows = np.where(day == subobs['time.dayofyear'].values)[0]\n",
    "    curr_day_rows = np.where(day == obs['time.dayofyear'].values)[0]\n",
    "    train_num = np.where(subobs['time.year'] <= max_train_year)[0][-1]\n",
    "    mapped_times = subobs['time'].values[sub_curr_day_rows]\n",
    "\n",
    "    # jobs = [] # list to collect jobs\n",
    "    tmp_day_mapped = []\n",
    "    for i, lat in tqdm(enumerate(lat_vals)):\n",
    "        X_lat = subobs.sel(latitude=lat, longitude=lon_vals, method='nearest')[obs_var].values\n",
    "        Y_lat = submodel.sel(latitude=lat, longitude=lon_vals)[modeled_var].values\n",
    "        x_map, y_map = bcsd.qmap_fit(X_lat, Y_lat, axis=0)\n",
    "        tmp_day_mapped.append(bcsd.qmap_predict(x_map, y_map, Y_lat, axis=0))\n",
    "        \n",
    "    # select only those days which correspond to the current day of the year\n",
    "    day_mapped = np.asarray(tmp_day_mapped)[:, sub_curr_day_rows]\n",
    "    day_mapped = np.swapaxes(day_mapped, 0, 1)\n",
    "    mapped_data[curr_day_rows, :, :] = day_mapped\n"
   ]
  },
  {
   "cell_type": "code",
   "execution_count": 16,
   "id": "fac5e436-0ad7-4779-aab0-c85c6f946090",
   "metadata": {},
   "outputs": [],
   "source": [
    "# put data into a data array\n",
    "dr = xr.DataArray(\n",
    "    mapped_data, \n",
    "    coords=[obs['time'].values, lat_vals, lon_vals],\n",
    "    dims=['time', 'lat', 'lon'])\n",
    "dr.attrs['gridtype'] = 'latlon'\n",
    "ds = xr.Dataset({'bias_corrected': dr}) \n",
    "ds = ds.reindex_like(model)\n",
    "# merging aids in preserving netcdf structure\n",
    "model = model.merge(ds) \n",
    "# delete modeled variable to save space\n",
    "del model[modeled_var]"
   ]
  },
  {
   "cell_type": "code",
   "execution_count": 17,
   "id": "e1dbad04-2dd3-437e-9ab0-21439de38f10",
   "metadata": {},
   "outputs": [],
   "source": [
    "model.to_netcdf(OUTPUT_PATH)"
   ]
  },
  {
   "cell_type": "code",
   "execution_count": 18,
   "id": "ae0de884-caa4-4c2d-9dd9-3fbbce9032c0",
   "metadata": {},
   "outputs": [],
   "source": [
    "ds = xr.load_dataset(OUTPUT_PATH)"
   ]
  },
  {
   "cell_type": "code",
   "execution_count": 19,
   "id": "ff40ffaf-9181-4870-a454-00e5e345d6a2",
   "metadata": {},
   "outputs": [
    {
     "data": {
      "text/html": [
       "<div><svg style=\"position: absolute; width: 0; height: 0; overflow: hidden\">\n",
       "<defs>\n",
       "<symbol id=\"icon-database\" viewBox=\"0 0 32 32\">\n",
       "<path d=\"M16 0c-8.837 0-16 2.239-16 5v4c0 2.761 7.163 5 16 5s16-2.239 16-5v-4c0-2.761-7.163-5-16-5z\"></path>\n",
       "<path d=\"M16 17c-8.837 0-16-2.239-16-5v6c0 2.761 7.163 5 16 5s16-2.239 16-5v-6c0 2.761-7.163 5-16 5z\"></path>\n",
       "<path d=\"M16 26c-8.837 0-16-2.239-16-5v6c0 2.761 7.163 5 16 5s16-2.239 16-5v-6c0 2.761-7.163 5-16 5z\"></path>\n",
       "</symbol>\n",
       "<symbol id=\"icon-file-text2\" viewBox=\"0 0 32 32\">\n",
       "<path d=\"M28.681 7.159c-0.694-0.947-1.662-2.053-2.724-3.116s-2.169-2.030-3.116-2.724c-1.612-1.182-2.393-1.319-2.841-1.319h-15.5c-1.378 0-2.5 1.121-2.5 2.5v27c0 1.378 1.122 2.5 2.5 2.5h23c1.378 0 2.5-1.122 2.5-2.5v-19.5c0-0.448-0.137-1.23-1.319-2.841zM24.543 5.457c0.959 0.959 1.712 1.825 2.268 2.543h-4.811v-4.811c0.718 0.556 1.584 1.309 2.543 2.268zM28 29.5c0 0.271-0.229 0.5-0.5 0.5h-23c-0.271 0-0.5-0.229-0.5-0.5v-27c0-0.271 0.229-0.5 0.5-0.5 0 0 15.499-0 15.5 0v7c0 0.552 0.448 1 1 1h7v19.5z\"></path>\n",
       "<path d=\"M23 26h-14c-0.552 0-1-0.448-1-1s0.448-1 1-1h14c0.552 0 1 0.448 1 1s-0.448 1-1 1z\"></path>\n",
       "<path d=\"M23 22h-14c-0.552 0-1-0.448-1-1s0.448-1 1-1h14c0.552 0 1 0.448 1 1s-0.448 1-1 1z\"></path>\n",
       "<path d=\"M23 18h-14c-0.552 0-1-0.448-1-1s0.448-1 1-1h14c0.552 0 1 0.448 1 1s-0.448 1-1 1z\"></path>\n",
       "</symbol>\n",
       "</defs>\n",
       "</svg>\n",
       "<style>/* CSS stylesheet for displaying xarray objects in jupyterlab.\n",
       " *\n",
       " */\n",
       "\n",
       ":root {\n",
       "  --xr-font-color0: var(--jp-content-font-color0, rgba(0, 0, 0, 1));\n",
       "  --xr-font-color2: var(--jp-content-font-color2, rgba(0, 0, 0, 0.54));\n",
       "  --xr-font-color3: var(--jp-content-font-color3, rgba(0, 0, 0, 0.38));\n",
       "  --xr-border-color: var(--jp-border-color2, #e0e0e0);\n",
       "  --xr-disabled-color: var(--jp-layout-color3, #bdbdbd);\n",
       "  --xr-background-color: var(--jp-layout-color0, white);\n",
       "  --xr-background-color-row-even: var(--jp-layout-color1, white);\n",
       "  --xr-background-color-row-odd: var(--jp-layout-color2, #eeeeee);\n",
       "}\n",
       "\n",
       "html[theme=dark],\n",
       "body.vscode-dark {\n",
       "  --xr-font-color0: rgba(255, 255, 255, 1);\n",
       "  --xr-font-color2: rgba(255, 255, 255, 0.54);\n",
       "  --xr-font-color3: rgba(255, 255, 255, 0.38);\n",
       "  --xr-border-color: #1F1F1F;\n",
       "  --xr-disabled-color: #515151;\n",
       "  --xr-background-color: #111111;\n",
       "  --xr-background-color-row-even: #111111;\n",
       "  --xr-background-color-row-odd: #313131;\n",
       "}\n",
       "\n",
       ".xr-wrap {\n",
       "  display: block !important;\n",
       "  min-width: 300px;\n",
       "  max-width: 700px;\n",
       "}\n",
       "\n",
       ".xr-text-repr-fallback {\n",
       "  /* fallback to plain text repr when CSS is not injected (untrusted notebook) */\n",
       "  display: none;\n",
       "}\n",
       "\n",
       ".xr-header {\n",
       "  padding-top: 6px;\n",
       "  padding-bottom: 6px;\n",
       "  margin-bottom: 4px;\n",
       "  border-bottom: solid 1px var(--xr-border-color);\n",
       "}\n",
       "\n",
       ".xr-header > div,\n",
       ".xr-header > ul {\n",
       "  display: inline;\n",
       "  margin-top: 0;\n",
       "  margin-bottom: 0;\n",
       "}\n",
       "\n",
       ".xr-obj-type,\n",
       ".xr-array-name {\n",
       "  margin-left: 2px;\n",
       "  margin-right: 10px;\n",
       "}\n",
       "\n",
       ".xr-obj-type {\n",
       "  color: var(--xr-font-color2);\n",
       "}\n",
       "\n",
       ".xr-sections {\n",
       "  padding-left: 0 !important;\n",
       "  display: grid;\n",
       "  grid-template-columns: 150px auto auto 1fr 20px 20px;\n",
       "}\n",
       "\n",
       ".xr-section-item {\n",
       "  display: contents;\n",
       "}\n",
       "\n",
       ".xr-section-item input {\n",
       "  display: none;\n",
       "}\n",
       "\n",
       ".xr-section-item input + label {\n",
       "  color: var(--xr-disabled-color);\n",
       "}\n",
       "\n",
       ".xr-section-item input:enabled + label {\n",
       "  cursor: pointer;\n",
       "  color: var(--xr-font-color2);\n",
       "}\n",
       "\n",
       ".xr-section-item input:enabled + label:hover {\n",
       "  color: var(--xr-font-color0);\n",
       "}\n",
       "\n",
       ".xr-section-summary {\n",
       "  grid-column: 1;\n",
       "  color: var(--xr-font-color2);\n",
       "  font-weight: 500;\n",
       "}\n",
       "\n",
       ".xr-section-summary > span {\n",
       "  display: inline-block;\n",
       "  padding-left: 0.5em;\n",
       "}\n",
       "\n",
       ".xr-section-summary-in:disabled + label {\n",
       "  color: var(--xr-font-color2);\n",
       "}\n",
       "\n",
       ".xr-section-summary-in + label:before {\n",
       "  display: inline-block;\n",
       "  content: '►';\n",
       "  font-size: 11px;\n",
       "  width: 15px;\n",
       "  text-align: center;\n",
       "}\n",
       "\n",
       ".xr-section-summary-in:disabled + label:before {\n",
       "  color: var(--xr-disabled-color);\n",
       "}\n",
       "\n",
       ".xr-section-summary-in:checked + label:before {\n",
       "  content: '▼';\n",
       "}\n",
       "\n",
       ".xr-section-summary-in:checked + label > span {\n",
       "  display: none;\n",
       "}\n",
       "\n",
       ".xr-section-summary,\n",
       ".xr-section-inline-details {\n",
       "  padding-top: 4px;\n",
       "  padding-bottom: 4px;\n",
       "}\n",
       "\n",
       ".xr-section-inline-details {\n",
       "  grid-column: 2 / -1;\n",
       "}\n",
       "\n",
       ".xr-section-details {\n",
       "  display: none;\n",
       "  grid-column: 1 / -1;\n",
       "  margin-bottom: 5px;\n",
       "}\n",
       "\n",
       ".xr-section-summary-in:checked ~ .xr-section-details {\n",
       "  display: contents;\n",
       "}\n",
       "\n",
       ".xr-array-wrap {\n",
       "  grid-column: 1 / -1;\n",
       "  display: grid;\n",
       "  grid-template-columns: 20px auto;\n",
       "}\n",
       "\n",
       ".xr-array-wrap > label {\n",
       "  grid-column: 1;\n",
       "  vertical-align: top;\n",
       "}\n",
       "\n",
       ".xr-preview {\n",
       "  color: var(--xr-font-color3);\n",
       "}\n",
       "\n",
       ".xr-array-preview,\n",
       ".xr-array-data {\n",
       "  padding: 0 5px !important;\n",
       "  grid-column: 2;\n",
       "}\n",
       "\n",
       ".xr-array-data,\n",
       ".xr-array-in:checked ~ .xr-array-preview {\n",
       "  display: none;\n",
       "}\n",
       "\n",
       ".xr-array-in:checked ~ .xr-array-data,\n",
       ".xr-array-preview {\n",
       "  display: inline-block;\n",
       "}\n",
       "\n",
       ".xr-dim-list {\n",
       "  display: inline-block !important;\n",
       "  list-style: none;\n",
       "  padding: 0 !important;\n",
       "  margin: 0;\n",
       "}\n",
       "\n",
       ".xr-dim-list li {\n",
       "  display: inline-block;\n",
       "  padding: 0;\n",
       "  margin: 0;\n",
       "}\n",
       "\n",
       ".xr-dim-list:before {\n",
       "  content: '(';\n",
       "}\n",
       "\n",
       ".xr-dim-list:after {\n",
       "  content: ')';\n",
       "}\n",
       "\n",
       ".xr-dim-list li:not(:last-child):after {\n",
       "  content: ',';\n",
       "  padding-right: 5px;\n",
       "}\n",
       "\n",
       ".xr-has-index {\n",
       "  font-weight: bold;\n",
       "}\n",
       "\n",
       ".xr-var-list,\n",
       ".xr-var-item {\n",
       "  display: contents;\n",
       "}\n",
       "\n",
       ".xr-var-item > div,\n",
       ".xr-var-item label,\n",
       ".xr-var-item > .xr-var-name span {\n",
       "  background-color: var(--xr-background-color-row-even);\n",
       "  margin-bottom: 0;\n",
       "}\n",
       "\n",
       ".xr-var-item > .xr-var-name:hover span {\n",
       "  padding-right: 5px;\n",
       "}\n",
       "\n",
       ".xr-var-list > li:nth-child(odd) > div,\n",
       ".xr-var-list > li:nth-child(odd) > label,\n",
       ".xr-var-list > li:nth-child(odd) > .xr-var-name span {\n",
       "  background-color: var(--xr-background-color-row-odd);\n",
       "}\n",
       "\n",
       ".xr-var-name {\n",
       "  grid-column: 1;\n",
       "}\n",
       "\n",
       ".xr-var-dims {\n",
       "  grid-column: 2;\n",
       "}\n",
       "\n",
       ".xr-var-dtype {\n",
       "  grid-column: 3;\n",
       "  text-align: right;\n",
       "  color: var(--xr-font-color2);\n",
       "}\n",
       "\n",
       ".xr-var-preview {\n",
       "  grid-column: 4;\n",
       "}\n",
       "\n",
       ".xr-var-name,\n",
       ".xr-var-dims,\n",
       ".xr-var-dtype,\n",
       ".xr-preview,\n",
       ".xr-attrs dt {\n",
       "  white-space: nowrap;\n",
       "  overflow: hidden;\n",
       "  text-overflow: ellipsis;\n",
       "  padding-right: 10px;\n",
       "}\n",
       "\n",
       ".xr-var-name:hover,\n",
       ".xr-var-dims:hover,\n",
       ".xr-var-dtype:hover,\n",
       ".xr-attrs dt:hover {\n",
       "  overflow: visible;\n",
       "  width: auto;\n",
       "  z-index: 1;\n",
       "}\n",
       "\n",
       ".xr-var-attrs,\n",
       ".xr-var-data {\n",
       "  display: none;\n",
       "  background-color: var(--xr-background-color) !important;\n",
       "  padding-bottom: 5px !important;\n",
       "}\n",
       "\n",
       ".xr-var-attrs-in:checked ~ .xr-var-attrs,\n",
       ".xr-var-data-in:checked ~ .xr-var-data {\n",
       "  display: block;\n",
       "}\n",
       "\n",
       ".xr-var-data > table {\n",
       "  float: right;\n",
       "}\n",
       "\n",
       ".xr-var-name span,\n",
       ".xr-var-data,\n",
       ".xr-attrs {\n",
       "  padding-left: 25px !important;\n",
       "}\n",
       "\n",
       ".xr-attrs,\n",
       ".xr-var-attrs,\n",
       ".xr-var-data {\n",
       "  grid-column: 1 / -1;\n",
       "}\n",
       "\n",
       "dl.xr-attrs {\n",
       "  padding: 0;\n",
       "  margin: 0;\n",
       "  display: grid;\n",
       "  grid-template-columns: 125px auto;\n",
       "}\n",
       "\n",
       ".xr-attrs dt,\n",
       ".xr-attrs dd {\n",
       "  padding: 0;\n",
       "  margin: 0;\n",
       "  float: left;\n",
       "  padding-right: 10px;\n",
       "  width: auto;\n",
       "}\n",
       "\n",
       ".xr-attrs dt {\n",
       "  font-weight: normal;\n",
       "  grid-column: 1;\n",
       "}\n",
       "\n",
       ".xr-attrs dt:hover span {\n",
       "  display: inline-block;\n",
       "  background: var(--xr-background-color);\n",
       "  padding-right: 10px;\n",
       "}\n",
       "\n",
       ".xr-attrs dd {\n",
       "  grid-column: 2;\n",
       "  white-space: pre-wrap;\n",
       "  word-break: break-all;\n",
       "}\n",
       "\n",
       ".xr-icon-database,\n",
       ".xr-icon-file-text2 {\n",
       "  display: inline-block;\n",
       "  vertical-align: middle;\n",
       "  width: 1em;\n",
       "  height: 1.5em !important;\n",
       "  stroke-width: 0;\n",
       "  stroke: currentColor;\n",
       "  fill: currentColor;\n",
       "}\n",
       "</style><pre class='xr-text-repr-fallback'>&lt;xarray.Dataset&gt;\n",
       "Dimensions:         (time: 350, bnds: 2, longitude: 120, latitude: 180,\n",
       "                     lat: 180, lon: 120)\n",
       "Coordinates:\n",
       "  * time            (time) datetime64[ns] 1950-01-16T12:00:00 ... 1999-12-16T...\n",
       "  * longitude       (longitude) float64 -89.25 -87.75 -86.25 ... 87.75 89.25\n",
       "  * latitude        (latitude) float64 0.0 2.0 4.0 6.0 ... 354.0 356.0 358.0\n",
       "  * lat             (lat) float64 0.0 2.0 4.0 6.0 ... 352.0 354.0 356.0 358.0\n",
       "  * lon             (lon) float64 -89.25 -87.75 -86.25 ... 86.25 87.75 89.25\n",
       "Dimensions without coordinates: bnds\n",
       "Data variables:\n",
       "    time_bnds       (time, bnds) object 1950-01-01 00:00:00 ... 2000-01-01 00...\n",
       "    lat_bnds        (longitude, bnds) float64 -90.0 -88.5 -88.5 ... 88.5 90.0\n",
       "    lon_bnds        (latitude, bnds) float64 -1.0 1.0 1.0 ... 357.0 357.0 359.0\n",
       "    bias_corrected  (time, lat, lon) float64 1.393e-06 9.945e-07 ... 3.337e-07\n",
       "Attributes: (12/47)\n",
       "    Conventions:            CF-1.7 CMIP-6.2\n",
       "    activity_id:            CMIP\n",
       "    branch_method:          standard\n",
       "    branch_time_in_child:   0.0\n",
       "    branch_time_in_parent:  35405.0\n",
       "    contact:                Evgeny Volodin (volodinev@gmail.com)\n",
       "    ...                     ...\n",
       "    title:                  INM-CM4-8 output prepared for CMIP6\n",
       "    tracking_id:            hdl:21.14100/29935edf-7e6c-43a4-86a4-78a0cc729e0d\n",
       "    variable_id:            pr\n",
       "    variant_label:          r1i1p1f1\n",
       "    license:                CMIP6 model data produced by Lawrence Livermore P...\n",
       "    cmor_version:           3.4.0</pre><div class='xr-wrap' style='display:none'><div class='xr-header'><div class='xr-obj-type'>xarray.Dataset</div></div><ul class='xr-sections'><li class='xr-section-item'><input id='section-fe0b0251-d392-4b2e-8afa-fb98ecf31f73' class='xr-section-summary-in' type='checkbox' disabled ><label for='section-fe0b0251-d392-4b2e-8afa-fb98ecf31f73' class='xr-section-summary'  title='Expand/collapse section'>Dimensions:</label><div class='xr-section-inline-details'><ul class='xr-dim-list'><li><span class='xr-has-index'>time</span>: 350</li><li><span>bnds</span>: 2</li><li><span class='xr-has-index'>longitude</span>: 120</li><li><span class='xr-has-index'>latitude</span>: 180</li><li><span class='xr-has-index'>lat</span>: 180</li><li><span class='xr-has-index'>lon</span>: 120</li></ul></div><div class='xr-section-details'></div></li><li class='xr-section-item'><input id='section-cdda9b40-cd99-4929-b446-457dafd48eb4' class='xr-section-summary-in' type='checkbox'  checked><label for='section-cdda9b40-cd99-4929-b446-457dafd48eb4' class='xr-section-summary' >Coordinates: <span>(5)</span></label><div class='xr-section-inline-details'></div><div class='xr-section-details'><ul class='xr-var-list'><li class='xr-var-item'><div class='xr-var-name'><span class='xr-has-index'>time</span></div><div class='xr-var-dims'>(time)</div><div class='xr-var-dtype'>datetime64[ns]</div><div class='xr-var-preview xr-preview'>1950-01-16T12:00:00 ... 1999-12-...</div><input id='attrs-356b249e-1766-422f-a2f9-1a3bb982f03c' class='xr-var-attrs-in' type='checkbox' disabled><label for='attrs-356b249e-1766-422f-a2f9-1a3bb982f03c' title='Show/Hide attributes'><svg class='icon xr-icon-file-text2'><use xlink:href='#icon-file-text2'></use></svg></label><input id='data-f1bbc14e-9358-48d4-b142-f5b75592a808' class='xr-var-data-in' type='checkbox'><label for='data-f1bbc14e-9358-48d4-b142-f5b75592a808' title='Show/Hide data repr'><svg class='icon xr-icon-database'><use xlink:href='#icon-database'></use></svg></label><div class='xr-var-attrs'><dl class='xr-attrs'></dl></div><div class='xr-var-data'><pre>array([&#x27;1950-01-16T12:00:00.000000000&#x27;, &#x27;1950-03-16T12:00:00.000000000&#x27;,\n",
       "       &#x27;1950-05-16T12:00:00.000000000&#x27;, ..., &#x27;1999-08-16T12:00:00.000000000&#x27;,\n",
       "       &#x27;1999-10-16T12:00:00.000000000&#x27;, &#x27;1999-12-16T12:00:00.000000000&#x27;],\n",
       "      dtype=&#x27;datetime64[ns]&#x27;)</pre></div></li><li class='xr-var-item'><div class='xr-var-name'><span class='xr-has-index'>longitude</span></div><div class='xr-var-dims'>(longitude)</div><div class='xr-var-dtype'>float64</div><div class='xr-var-preview xr-preview'>-89.25 -87.75 ... 87.75 89.25</div><input id='attrs-625a62b1-33ba-4dbf-b3a0-fc280e88f6b8' class='xr-var-attrs-in' type='checkbox' ><label for='attrs-625a62b1-33ba-4dbf-b3a0-fc280e88f6b8' title='Show/Hide attributes'><svg class='icon xr-icon-file-text2'><use xlink:href='#icon-file-text2'></use></svg></label><input id='data-0c7103e0-466f-47f8-890a-da5957661c80' class='xr-var-data-in' type='checkbox'><label for='data-0c7103e0-466f-47f8-890a-da5957661c80' title='Show/Hide data repr'><svg class='icon xr-icon-database'><use xlink:href='#icon-database'></use></svg></label><div class='xr-var-attrs'><dl class='xr-attrs'><dt><span>bounds :</span></dt><dd>lat_bnds</dd><dt><span>units :</span></dt><dd>degrees_north</dd><dt><span>axis :</span></dt><dd>Y</dd><dt><span>long_name :</span></dt><dd>Latitude</dd><dt><span>standard_name :</span></dt><dd>latitude</dd></dl></div><div class='xr-var-data'><pre>array([-89.25, -87.75, -86.25, -84.75, -83.25, -81.75, -80.25, -78.75, -77.25,\n",
       "       -75.75, -74.25, -72.75, -71.25, -69.75, -68.25, -66.75, -65.25, -63.75,\n",
       "       -62.25, -60.75, -59.25, -57.75, -56.25, -54.75, -53.25, -51.75, -50.25,\n",
       "       -48.75, -47.25, -45.75, -44.25, -42.75, -41.25, -39.75, -38.25, -36.75,\n",
       "       -35.25, -33.75, -32.25, -30.75, -29.25, -27.75, -26.25, -24.75, -23.25,\n",
       "       -21.75, -20.25, -18.75, -17.25, -15.75, -14.25, -12.75, -11.25,  -9.75,\n",
       "        -8.25,  -6.75,  -5.25,  -3.75,  -2.25,  -0.75,   0.75,   2.25,   3.75,\n",
       "         5.25,   6.75,   8.25,   9.75,  11.25,  12.75,  14.25,  15.75,  17.25,\n",
       "        18.75,  20.25,  21.75,  23.25,  24.75,  26.25,  27.75,  29.25,  30.75,\n",
       "        32.25,  33.75,  35.25,  36.75,  38.25,  39.75,  41.25,  42.75,  44.25,\n",
       "        45.75,  47.25,  48.75,  50.25,  51.75,  53.25,  54.75,  56.25,  57.75,\n",
       "        59.25,  60.75,  62.25,  63.75,  65.25,  66.75,  68.25,  69.75,  71.25,\n",
       "        72.75,  74.25,  75.75,  77.25,  78.75,  80.25,  81.75,  83.25,  84.75,\n",
       "        86.25,  87.75,  89.25])</pre></div></li><li class='xr-var-item'><div class='xr-var-name'><span class='xr-has-index'>latitude</span></div><div class='xr-var-dims'>(latitude)</div><div class='xr-var-dtype'>float64</div><div class='xr-var-preview xr-preview'>0.0 2.0 4.0 ... 354.0 356.0 358.0</div><input id='attrs-c89b5c63-0644-4b8b-b1ac-505665f02344' class='xr-var-attrs-in' type='checkbox' ><label for='attrs-c89b5c63-0644-4b8b-b1ac-505665f02344' title='Show/Hide attributes'><svg class='icon xr-icon-file-text2'><use xlink:href='#icon-file-text2'></use></svg></label><input id='data-030235a1-c4e5-457c-8cbe-2b8da409c8b3' class='xr-var-data-in' type='checkbox'><label for='data-030235a1-c4e5-457c-8cbe-2b8da409c8b3' title='Show/Hide data repr'><svg class='icon xr-icon-database'><use xlink:href='#icon-database'></use></svg></label><div class='xr-var-attrs'><dl class='xr-attrs'><dt><span>bounds :</span></dt><dd>lon_bnds</dd><dt><span>units :</span></dt><dd>degrees_east</dd><dt><span>axis :</span></dt><dd>X</dd><dt><span>long_name :</span></dt><dd>Longitude</dd><dt><span>standard_name :</span></dt><dd>longitude</dd></dl></div><div class='xr-var-data'><pre>array([  0.,   2.,   4.,   6.,   8.,  10.,  12.,  14.,  16.,  18.,  20.,  22.,\n",
       "        24.,  26.,  28.,  30.,  32.,  34.,  36.,  38.,  40.,  42.,  44.,  46.,\n",
       "        48.,  50.,  52.,  54.,  56.,  58.,  60.,  62.,  64.,  66.,  68.,  70.,\n",
       "        72.,  74.,  76.,  78.,  80.,  82.,  84.,  86.,  88.,  90.,  92.,  94.,\n",
       "        96.,  98., 100., 102., 104., 106., 108., 110., 112., 114., 116., 118.,\n",
       "       120., 122., 124., 126., 128., 130., 132., 134., 136., 138., 140., 142.,\n",
       "       144., 146., 148., 150., 152., 154., 156., 158., 160., 162., 164., 166.,\n",
       "       168., 170., 172., 174., 176., 178., 180., 182., 184., 186., 188., 190.,\n",
       "       192., 194., 196., 198., 200., 202., 204., 206., 208., 210., 212., 214.,\n",
       "       216., 218., 220., 222., 224., 226., 228., 230., 232., 234., 236., 238.,\n",
       "       240., 242., 244., 246., 248., 250., 252., 254., 256., 258., 260., 262.,\n",
       "       264., 266., 268., 270., 272., 274., 276., 278., 280., 282., 284., 286.,\n",
       "       288., 290., 292., 294., 296., 298., 300., 302., 304., 306., 308., 310.,\n",
       "       312., 314., 316., 318., 320., 322., 324., 326., 328., 330., 332., 334.,\n",
       "       336., 338., 340., 342., 344., 346., 348., 350., 352., 354., 356., 358.])</pre></div></li><li class='xr-var-item'><div class='xr-var-name'><span class='xr-has-index'>lat</span></div><div class='xr-var-dims'>(lat)</div><div class='xr-var-dtype'>float64</div><div class='xr-var-preview xr-preview'>0.0 2.0 4.0 ... 354.0 356.0 358.0</div><input id='attrs-5a8cd44e-0f2f-4537-b250-2eb2c0da4ff2' class='xr-var-attrs-in' type='checkbox' disabled><label for='attrs-5a8cd44e-0f2f-4537-b250-2eb2c0da4ff2' title='Show/Hide attributes'><svg class='icon xr-icon-file-text2'><use xlink:href='#icon-file-text2'></use></svg></label><input id='data-49a51203-718f-44bd-8504-58a47201a2d9' class='xr-var-data-in' type='checkbox'><label for='data-49a51203-718f-44bd-8504-58a47201a2d9' title='Show/Hide data repr'><svg class='icon xr-icon-database'><use xlink:href='#icon-database'></use></svg></label><div class='xr-var-attrs'><dl class='xr-attrs'></dl></div><div class='xr-var-data'><pre>array([  0.,   2.,   4.,   6.,   8.,  10.,  12.,  14.,  16.,  18.,  20.,  22.,\n",
       "        24.,  26.,  28.,  30.,  32.,  34.,  36.,  38.,  40.,  42.,  44.,  46.,\n",
       "        48.,  50.,  52.,  54.,  56.,  58.,  60.,  62.,  64.,  66.,  68.,  70.,\n",
       "        72.,  74.,  76.,  78.,  80.,  82.,  84.,  86.,  88.,  90.,  92.,  94.,\n",
       "        96.,  98., 100., 102., 104., 106., 108., 110., 112., 114., 116., 118.,\n",
       "       120., 122., 124., 126., 128., 130., 132., 134., 136., 138., 140., 142.,\n",
       "       144., 146., 148., 150., 152., 154., 156., 158., 160., 162., 164., 166.,\n",
       "       168., 170., 172., 174., 176., 178., 180., 182., 184., 186., 188., 190.,\n",
       "       192., 194., 196., 198., 200., 202., 204., 206., 208., 210., 212., 214.,\n",
       "       216., 218., 220., 222., 224., 226., 228., 230., 232., 234., 236., 238.,\n",
       "       240., 242., 244., 246., 248., 250., 252., 254., 256., 258., 260., 262.,\n",
       "       264., 266., 268., 270., 272., 274., 276., 278., 280., 282., 284., 286.,\n",
       "       288., 290., 292., 294., 296., 298., 300., 302., 304., 306., 308., 310.,\n",
       "       312., 314., 316., 318., 320., 322., 324., 326., 328., 330., 332., 334.,\n",
       "       336., 338., 340., 342., 344., 346., 348., 350., 352., 354., 356., 358.])</pre></div></li><li class='xr-var-item'><div class='xr-var-name'><span class='xr-has-index'>lon</span></div><div class='xr-var-dims'>(lon)</div><div class='xr-var-dtype'>float64</div><div class='xr-var-preview xr-preview'>-89.25 -87.75 ... 87.75 89.25</div><input id='attrs-c06f41ed-0c2d-4edb-af85-f9d150a613a9' class='xr-var-attrs-in' type='checkbox' disabled><label for='attrs-c06f41ed-0c2d-4edb-af85-f9d150a613a9' title='Show/Hide attributes'><svg class='icon xr-icon-file-text2'><use xlink:href='#icon-file-text2'></use></svg></label><input id='data-cb6f4f8e-bfd7-42cb-bd7a-ecd8785a33f1' class='xr-var-data-in' type='checkbox'><label for='data-cb6f4f8e-bfd7-42cb-bd7a-ecd8785a33f1' title='Show/Hide data repr'><svg class='icon xr-icon-database'><use xlink:href='#icon-database'></use></svg></label><div class='xr-var-attrs'><dl class='xr-attrs'></dl></div><div class='xr-var-data'><pre>array([-89.25, -87.75, -86.25, -84.75, -83.25, -81.75, -80.25, -78.75, -77.25,\n",
       "       -75.75, -74.25, -72.75, -71.25, -69.75, -68.25, -66.75, -65.25, -63.75,\n",
       "       -62.25, -60.75, -59.25, -57.75, -56.25, -54.75, -53.25, -51.75, -50.25,\n",
       "       -48.75, -47.25, -45.75, -44.25, -42.75, -41.25, -39.75, -38.25, -36.75,\n",
       "       -35.25, -33.75, -32.25, -30.75, -29.25, -27.75, -26.25, -24.75, -23.25,\n",
       "       -21.75, -20.25, -18.75, -17.25, -15.75, -14.25, -12.75, -11.25,  -9.75,\n",
       "        -8.25,  -6.75,  -5.25,  -3.75,  -2.25,  -0.75,   0.75,   2.25,   3.75,\n",
       "         5.25,   6.75,   8.25,   9.75,  11.25,  12.75,  14.25,  15.75,  17.25,\n",
       "        18.75,  20.25,  21.75,  23.25,  24.75,  26.25,  27.75,  29.25,  30.75,\n",
       "        32.25,  33.75,  35.25,  36.75,  38.25,  39.75,  41.25,  42.75,  44.25,\n",
       "        45.75,  47.25,  48.75,  50.25,  51.75,  53.25,  54.75,  56.25,  57.75,\n",
       "        59.25,  60.75,  62.25,  63.75,  65.25,  66.75,  68.25,  69.75,  71.25,\n",
       "        72.75,  74.25,  75.75,  77.25,  78.75,  80.25,  81.75,  83.25,  84.75,\n",
       "        86.25,  87.75,  89.25])</pre></div></li></ul></div></li><li class='xr-section-item'><input id='section-df791b38-3dff-464e-8afb-eafe5686a97d' class='xr-section-summary-in' type='checkbox'  checked><label for='section-df791b38-3dff-464e-8afb-eafe5686a97d' class='xr-section-summary' >Data variables: <span>(4)</span></label><div class='xr-section-inline-details'></div><div class='xr-section-details'><ul class='xr-var-list'><li class='xr-var-item'><div class='xr-var-name'><span>time_bnds</span></div><div class='xr-var-dims'>(time, bnds)</div><div class='xr-var-dtype'>object</div><div class='xr-var-preview xr-preview'>1950-01-01 00:00:00 ... 2000-01-...</div><input id='attrs-47e7b254-1222-4eac-af95-79919a66b067' class='xr-var-attrs-in' type='checkbox' disabled><label for='attrs-47e7b254-1222-4eac-af95-79919a66b067' title='Show/Hide attributes'><svg class='icon xr-icon-file-text2'><use xlink:href='#icon-file-text2'></use></svg></label><input id='data-505c287e-8f0f-4076-826c-e555a4b68d0c' class='xr-var-data-in' type='checkbox'><label for='data-505c287e-8f0f-4076-826c-e555a4b68d0c' title='Show/Hide data repr'><svg class='icon xr-icon-database'><use xlink:href='#icon-database'></use></svg></label><div class='xr-var-attrs'><dl class='xr-attrs'></dl></div><div class='xr-var-data'><pre>array([[cftime.DatetimeNoLeap(1950, 1, 1, 0, 0, 0, 0, has_year_zero=True),\n",
       "        cftime.DatetimeNoLeap(1950, 2, 1, 0, 0, 0, 0, has_year_zero=True)],\n",
       "       [cftime.DatetimeNoLeap(1950, 3, 1, 0, 0, 0, 0, has_year_zero=True),\n",
       "        cftime.DatetimeNoLeap(1950, 4, 1, 0, 0, 0, 0, has_year_zero=True)],\n",
       "       [cftime.DatetimeNoLeap(1950, 5, 1, 0, 0, 0, 0, has_year_zero=True),\n",
       "        cftime.DatetimeNoLeap(1950, 6, 1, 0, 0, 0, 0, has_year_zero=True)],\n",
       "       [cftime.DatetimeNoLeap(1950, 7, 1, 0, 0, 0, 0, has_year_zero=True),\n",
       "        cftime.DatetimeNoLeap(1950, 8, 1, 0, 0, 0, 0, has_year_zero=True)],\n",
       "       [cftime.DatetimeNoLeap(1950, 8, 1, 0, 0, 0, 0, has_year_zero=True),\n",
       "        cftime.DatetimeNoLeap(1950, 9, 1, 0, 0, 0, 0, has_year_zero=True)],\n",
       "       [cftime.DatetimeNoLeap(1950, 10, 1, 0, 0, 0, 0, has_year_zero=True),\n",
       "        cftime.DatetimeNoLeap(1950, 11, 1, 0, 0, 0, 0, has_year_zero=True)],\n",
       "       [cftime.DatetimeNoLeap(1950, 12, 1, 0, 0, 0, 0, has_year_zero=True),\n",
       "        cftime.DatetimeNoLeap(1951, 1, 1, 0, 0, 0, 0, has_year_zero=True)],\n",
       "       [cftime.DatetimeNoLeap(1951, 1, 1, 0, 0, 0, 0, has_year_zero=True),\n",
       "        cftime.DatetimeNoLeap(1951, 2, 1, 0, 0, 0, 0, has_year_zero=True)],\n",
       "       [cftime.DatetimeNoLeap(1951, 3, 1, 0, 0, 0, 0, has_year_zero=True),\n",
       "        cftime.DatetimeNoLeap(1951, 4, 1, 0, 0, 0, 0, has_year_zero=True)],\n",
       "       [cftime.DatetimeNoLeap(1951, 5, 1, 0, 0, 0, 0, has_year_zero=True),\n",
       "        cftime.DatetimeNoLeap(1951, 6, 1, 0, 0, 0, 0, has_year_zero=True)],\n",
       "...\n",
       "        cftime.DatetimeNoLeap(1998, 9, 1, 0, 0, 0, 0, has_year_zero=True)],\n",
       "       [cftime.DatetimeNoLeap(1998, 10, 1, 0, 0, 0, 0, has_year_zero=True),\n",
       "        cftime.DatetimeNoLeap(1998, 11, 1, 0, 0, 0, 0, has_year_zero=True)],\n",
       "       [cftime.DatetimeNoLeap(1998, 12, 1, 0, 0, 0, 0, has_year_zero=True),\n",
       "        cftime.DatetimeNoLeap(1999, 1, 1, 0, 0, 0, 0, has_year_zero=True)],\n",
       "       [cftime.DatetimeNoLeap(1999, 1, 1, 0, 0, 0, 0, has_year_zero=True),\n",
       "        cftime.DatetimeNoLeap(1999, 2, 1, 0, 0, 0, 0, has_year_zero=True)],\n",
       "       [cftime.DatetimeNoLeap(1999, 3, 1, 0, 0, 0, 0, has_year_zero=True),\n",
       "        cftime.DatetimeNoLeap(1999, 4, 1, 0, 0, 0, 0, has_year_zero=True)],\n",
       "       [cftime.DatetimeNoLeap(1999, 5, 1, 0, 0, 0, 0, has_year_zero=True),\n",
       "        cftime.DatetimeNoLeap(1999, 6, 1, 0, 0, 0, 0, has_year_zero=True)],\n",
       "       [cftime.DatetimeNoLeap(1999, 7, 1, 0, 0, 0, 0, has_year_zero=True),\n",
       "        cftime.DatetimeNoLeap(1999, 8, 1, 0, 0, 0, 0, has_year_zero=True)],\n",
       "       [cftime.DatetimeNoLeap(1999, 8, 1, 0, 0, 0, 0, has_year_zero=True),\n",
       "        cftime.DatetimeNoLeap(1999, 9, 1, 0, 0, 0, 0, has_year_zero=True)],\n",
       "       [cftime.DatetimeNoLeap(1999, 10, 1, 0, 0, 0, 0, has_year_zero=True),\n",
       "        cftime.DatetimeNoLeap(1999, 11, 1, 0, 0, 0, 0, has_year_zero=True)],\n",
       "       [cftime.DatetimeNoLeap(1999, 12, 1, 0, 0, 0, 0, has_year_zero=True),\n",
       "        cftime.DatetimeNoLeap(2000, 1, 1, 0, 0, 0, 0, has_year_zero=True)]],\n",
       "      dtype=object)</pre></div></li><li class='xr-var-item'><div class='xr-var-name'><span>lat_bnds</span></div><div class='xr-var-dims'>(longitude, bnds)</div><div class='xr-var-dtype'>float64</div><div class='xr-var-preview xr-preview'>-90.0 -88.5 -88.5 ... 88.5 90.0</div><input id='attrs-d0762032-142e-4b39-9806-1f16c3be850f' class='xr-var-attrs-in' type='checkbox' disabled><label for='attrs-d0762032-142e-4b39-9806-1f16c3be850f' title='Show/Hide attributes'><svg class='icon xr-icon-file-text2'><use xlink:href='#icon-file-text2'></use></svg></label><input id='data-e0967f70-6809-49ee-bdc0-761001a68d32' class='xr-var-data-in' type='checkbox'><label for='data-e0967f70-6809-49ee-bdc0-761001a68d32' title='Show/Hide data repr'><svg class='icon xr-icon-database'><use xlink:href='#icon-database'></use></svg></label><div class='xr-var-attrs'><dl class='xr-attrs'></dl></div><div class='xr-var-data'><pre>array([[-90. , -88.5],\n",
       "       [-88.5, -87. ],\n",
       "       [-87. , -85.5],\n",
       "       [-85.5, -84. ],\n",
       "       [-84. , -82.5],\n",
       "       [-82.5, -81. ],\n",
       "       [-81. , -79.5],\n",
       "       [-79.5, -78. ],\n",
       "       [-78. , -76.5],\n",
       "       [-76.5, -75. ],\n",
       "       [-75. , -73.5],\n",
       "       [-73.5, -72. ],\n",
       "       [-72. , -70.5],\n",
       "       [-70.5, -69. ],\n",
       "       [-69. , -67.5],\n",
       "       [-67.5, -66. ],\n",
       "       [-66. , -64.5],\n",
       "       [-64.5, -63. ],\n",
       "       [-63. , -61.5],\n",
       "       [-61.5, -60. ],\n",
       "...\n",
       "       [ 60. ,  61.5],\n",
       "       [ 61.5,  63. ],\n",
       "       [ 63. ,  64.5],\n",
       "       [ 64.5,  66. ],\n",
       "       [ 66. ,  67.5],\n",
       "       [ 67.5,  69. ],\n",
       "       [ 69. ,  70.5],\n",
       "       [ 70.5,  72. ],\n",
       "       [ 72. ,  73.5],\n",
       "       [ 73.5,  75. ],\n",
       "       [ 75. ,  76.5],\n",
       "       [ 76.5,  78. ],\n",
       "       [ 78. ,  79.5],\n",
       "       [ 79.5,  81. ],\n",
       "       [ 81. ,  82.5],\n",
       "       [ 82.5,  84. ],\n",
       "       [ 84. ,  85.5],\n",
       "       [ 85.5,  87. ],\n",
       "       [ 87. ,  88.5],\n",
       "       [ 88.5,  90. ]])</pre></div></li><li class='xr-var-item'><div class='xr-var-name'><span>lon_bnds</span></div><div class='xr-var-dims'>(latitude, bnds)</div><div class='xr-var-dtype'>float64</div><div class='xr-var-preview xr-preview'>-1.0 1.0 1.0 ... 357.0 357.0 359.0</div><input id='attrs-e2bc0bef-f132-439a-9f55-bd3a96ea3046' class='xr-var-attrs-in' type='checkbox' disabled><label for='attrs-e2bc0bef-f132-439a-9f55-bd3a96ea3046' title='Show/Hide attributes'><svg class='icon xr-icon-file-text2'><use xlink:href='#icon-file-text2'></use></svg></label><input id='data-2e5e88fd-141f-43dc-aed0-948496d1b27a' class='xr-var-data-in' type='checkbox'><label for='data-2e5e88fd-141f-43dc-aed0-948496d1b27a' title='Show/Hide data repr'><svg class='icon xr-icon-database'><use xlink:href='#icon-database'></use></svg></label><div class='xr-var-attrs'><dl class='xr-attrs'></dl></div><div class='xr-var-data'><pre>array([[ -1.,   1.],\n",
       "       [  1.,   3.],\n",
       "       [  3.,   5.],\n",
       "       [  5.,   7.],\n",
       "       [  7.,   9.],\n",
       "       [  9.,  11.],\n",
       "       [ 11.,  13.],\n",
       "       [ 13.,  15.],\n",
       "       [ 15.,  17.],\n",
       "       [ 17.,  19.],\n",
       "       [ 19.,  21.],\n",
       "       [ 21.,  23.],\n",
       "       [ 23.,  25.],\n",
       "       [ 25.,  27.],\n",
       "       [ 27.,  29.],\n",
       "       [ 29.,  31.],\n",
       "       [ 31.,  33.],\n",
       "       [ 33.,  35.],\n",
       "       [ 35.,  37.],\n",
       "       [ 37.,  39.],\n",
       "...\n",
       "       [319., 321.],\n",
       "       [321., 323.],\n",
       "       [323., 325.],\n",
       "       [325., 327.],\n",
       "       [327., 329.],\n",
       "       [329., 331.],\n",
       "       [331., 333.],\n",
       "       [333., 335.],\n",
       "       [335., 337.],\n",
       "       [337., 339.],\n",
       "       [339., 341.],\n",
       "       [341., 343.],\n",
       "       [343., 345.],\n",
       "       [345., 347.],\n",
       "       [347., 349.],\n",
       "       [349., 351.],\n",
       "       [351., 353.],\n",
       "       [353., 355.],\n",
       "       [355., 357.],\n",
       "       [357., 359.]])</pre></div></li><li class='xr-var-item'><div class='xr-var-name'><span>bias_corrected</span></div><div class='xr-var-dims'>(time, lat, lon)</div><div class='xr-var-dtype'>float64</div><div class='xr-var-preview xr-preview'>1.393e-06 9.945e-07 ... 3.337e-07</div><input id='attrs-c2a6139d-cce1-4329-8e7d-1b69f7b70e58' class='xr-var-attrs-in' type='checkbox' ><label for='attrs-c2a6139d-cce1-4329-8e7d-1b69f7b70e58' title='Show/Hide attributes'><svg class='icon xr-icon-file-text2'><use xlink:href='#icon-file-text2'></use></svg></label><input id='data-fcf59acd-1950-4f62-a82d-dd8747f0d385' class='xr-var-data-in' type='checkbox'><label for='data-fcf59acd-1950-4f62-a82d-dd8747f0d385' title='Show/Hide data repr'><svg class='icon xr-icon-database'><use xlink:href='#icon-database'></use></svg></label><div class='xr-var-attrs'><dl class='xr-attrs'><dt><span>gridtype :</span></dt><dd>latlon</dd></dl></div><div class='xr-var-data'><pre>array([[[1.39298063e-06, 9.94543060e-07, 9.94543060e-07, ...,\n",
       "         5.53392155e-06, 6.39949572e-06, 6.16284900e-06],\n",
       "        [1.17347774e-06, 9.79044216e-07, 6.99990489e-07, ...,\n",
       "         5.44365786e-06, 5.91829377e-06, 5.73348665e-06],\n",
       "        [5.20183462e-07, 4.50745330e-07, 2.47240564e-07, ...,\n",
       "         4.88534490e-06, 5.50673312e-06, 5.75997581e-06],\n",
       "        ...,\n",
       "        [2.25402935e-08, 7.87166239e-09, 1.57779850e-08, ...,\n",
       "         4.36424755e-08, 5.18256636e-08, 7.00163094e-08],\n",
       "        [2.25402935e-08, 2.91718258e-11, 1.42742205e-08, ...,\n",
       "         3.89499835e-08, 5.17859015e-08, 7.00163094e-08],\n",
       "        [2.25402935e-08, 2.91718258e-11, 7.89887490e-09, ...,\n",
       "         3.13918740e-08, 5.17859015e-08, 6.72652370e-08]],\n",
       "\n",
       "       [[4.40884196e-06, 3.56513253e-06, 4.63347093e-06, ...,\n",
       "         8.17754603e-06, 7.18778497e-06, 1.16506872e-05],\n",
       "        [3.55428049e-06, 2.49962464e-06, 3.69418256e-06, ...,\n",
       "         9.68868924e-06, 7.92088794e-06, 9.76603670e-06],\n",
       "        [2.14527073e-06, 1.50394827e-06, 2.21847856e-06, ...,\n",
       "         9.23092687e-06, 7.36715351e-06, 8.14099411e-06],\n",
       "...\n",
       "        [1.23929286e-07, 2.18523758e-07, 2.12559419e-07, ...,\n",
       "         1.38941466e-07, 1.73796109e-07, 2.90406094e-07],\n",
       "        [1.20563842e-07, 2.12559419e-07, 2.24528298e-07, ...,\n",
       "         1.64468411e-07, 1.72044749e-07, 2.98584577e-07],\n",
       "        [1.20563842e-07, 2.12559419e-07, 2.32469120e-07, ...,\n",
       "         1.28261106e-07, 1.78551247e-07, 2.98584577e-07]],\n",
       "\n",
       "       [[1.39020655e-06, 1.54238010e-06, 1.57597256e-06, ...,\n",
       "         7.27900125e-06, 8.32933087e-06, 1.04690743e-05],\n",
       "        [9.54114373e-07, 1.01405111e-06, 1.06050099e-06, ...,\n",
       "         5.83208037e-06, 6.87372964e-06, 7.90841465e-06],\n",
       "        [3.83941559e-07, 4.04824773e-07, 4.35426994e-07, ...,\n",
       "         6.44080227e-06, 7.40275779e-06, 8.14681389e-06],\n",
       "        ...,\n",
       "        [1.05630704e-08, 1.10573760e-08, 3.46734654e-08, ...,\n",
       "         2.77490341e-07, 3.03726115e-07, 3.33663934e-07],\n",
       "        [1.10573760e-08, 2.73813283e-08, 3.52724974e-08, ...,\n",
       "         2.91761140e-07, 2.74527960e-07, 3.33663934e-07],\n",
       "        [2.73813283e-08, 2.74220207e-08, 3.46734654e-08, ...,\n",
       "         3.01207265e-07, 2.74527960e-07, 3.33663934e-07]]])</pre></div></li></ul></div></li><li class='xr-section-item'><input id='section-55ec4d25-da8e-41cb-a9b6-f1a2055eb71d' class='xr-section-summary-in' type='checkbox'  ><label for='section-55ec4d25-da8e-41cb-a9b6-f1a2055eb71d' class='xr-section-summary' >Attributes: <span>(47)</span></label><div class='xr-section-inline-details'></div><div class='xr-section-details'><dl class='xr-attrs'><dt><span>Conventions :</span></dt><dd>CF-1.7 CMIP-6.2</dd><dt><span>activity_id :</span></dt><dd>CMIP</dd><dt><span>branch_method :</span></dt><dd>standard</dd><dt><span>branch_time_in_child :</span></dt><dd>0.0</dd><dt><span>branch_time_in_parent :</span></dt><dd>35405.0</dd><dt><span>contact :</span></dt><dd>Evgeny Volodin (volodinev@gmail.com)</dd><dt><span>creation_date :</span></dt><dd>2019-05-29T21:03:52Z</dd><dt><span>data_specs_version :</span></dt><dd>01.00.29</dd><dt><span>experiment :</span></dt><dd>all-forcing simulation of the recent past</dd><dt><span>experiment_id :</span></dt><dd>historical</dd><dt><span>external_variables :</span></dt><dd>areacella</dd><dt><span>forcing_index :</span></dt><dd>1</dd><dt><span>frequency :</span></dt><dd>mon</dd><dt><span>further_info_url :</span></dt><dd>https://furtherinfo.es-doc.org/CMIP6.INM.INM-CM4-8.historical.none.r1i1p1f1</dd><dt><span>grid :</span></dt><dd>gs2x1.5</dd><dt><span>grid_label :</span></dt><dd>gr1</dd><dt><span>history :</span></dt><dd>2019-05-29T21:03:52Z ;rewrote data to be consistent with CMIP for variable ccb found in table Amon.</dd><dt><span>initialization_index :</span></dt><dd>1</dd><dt><span>institution :</span></dt><dd>Institute for Numerical Mathematics, Russian Academy of Science, Moscow 119991, Russia</dd><dt><span>institution_id :</span></dt><dd>INM</dd><dt><span>mip_era :</span></dt><dd>CMIP6</dd><dt><span>nominal_resolution :</span></dt><dd>100 km</dd><dt><span>parent_activity_id :</span></dt><dd>CMIP</dd><dt><span>parent_experiment_id :</span></dt><dd>piControl</dd><dt><span>parent_mip_era :</span></dt><dd>CMIP6</dd><dt><span>parent_source_id :</span></dt><dd>INM-CM4-8</dd><dt><span>parent_time_units :</span></dt><dd>days since 1850-01-01</dd><dt><span>parent_variant_label :</span></dt><dd>r1i1p1f1</dd><dt><span>physics_index :</span></dt><dd>1</dd><dt><span>product :</span></dt><dd>model-output</dd><dt><span>realization_index :</span></dt><dd>1</dd><dt><span>realm :</span></dt><dd>atmos</dd><dt><span>references :</span></dt><dd>RJNAMM 2018, 367-374. DOI: 10.1515/rnam-2018-0032</dd><dt><span>run_variant :</span></dt><dd>standard</dd><dt><span>source :</span></dt><dd>INM-CM4-8 (2016): \n",
       "aerosol: INM-AER1\n",
       "atmos: INM-AM4-8 (2x1.5; 180 x 120 longitude/latitude; 21 levels; top level sigma = 0.01)\n",
       "atmosChem: none\n",
       "land: INM-LND1\n",
       "landIce: none\n",
       "ocean: INM-OM5 (North Pole shifted to 60N, 90E; 360 x 318 longitude/latitude; 40 levels; sigma vertical coordinate)\n",
       "ocnBgchem: none\n",
       "seaIce: INM-ICE1</dd><dt><span>source_id :</span></dt><dd>INM-CM4-8</dd><dt><span>source_type :</span></dt><dd>AOGCM AER</dd><dt><span>sub_experiment :</span></dt><dd>none</dd><dt><span>sub_experiment_id :</span></dt><dd>none</dd><dt><span>table_id :</span></dt><dd>Amon</dd><dt><span>table_info :</span></dt><dd>Creation Date:(20 February 2019) MD5:951084b632bd52c3f6224e495b1cb65e</dd><dt><span>title :</span></dt><dd>INM-CM4-8 output prepared for CMIP6</dd><dt><span>tracking_id :</span></dt><dd>hdl:21.14100/29935edf-7e6c-43a4-86a4-78a0cc729e0d</dd><dt><span>variable_id :</span></dt><dd>pr</dd><dt><span>variant_label :</span></dt><dd>r1i1p1f1</dd><dt><span>license :</span></dt><dd>CMIP6 model data produced by Lawrence Livermore PCMDI is licensed under a Creative Commons Attribution ShareAlike 4.0 International License (https://creativecommons.org/licenses). Consult https://pcmdi.llnl.gov/CMIP6/TermsOfUse for terms of use governing CMIP6 output, including citation requirements and proper acknowledgment. Further information about this data, including some limitations, can be found via the further_info_url (recorded as a global attribute in this file) and at https:///pcmdi.llnl.gov/. The data producers and data providers make no warranty, either express or implied, including, but not limited to, warranties of merchantability and fitness for a particular purpose. All liabilities arising from the supply of the information (including any liability arising in negligence) are excluded to the fullest extent permitted by law.</dd><dt><span>cmor_version :</span></dt><dd>3.4.0</dd></dl></div></li></ul></div></div>"
      ],
      "text/plain": [
       "<xarray.Dataset>\n",
       "Dimensions:         (time: 350, bnds: 2, longitude: 120, latitude: 180,\n",
       "                     lat: 180, lon: 120)\n",
       "Coordinates:\n",
       "  * time            (time) datetime64[ns] 1950-01-16T12:00:00 ... 1999-12-16T...\n",
       "  * longitude       (longitude) float64 -89.25 -87.75 -86.25 ... 87.75 89.25\n",
       "  * latitude        (latitude) float64 0.0 2.0 4.0 6.0 ... 354.0 356.0 358.0\n",
       "  * lat             (lat) float64 0.0 2.0 4.0 6.0 ... 352.0 354.0 356.0 358.0\n",
       "  * lon             (lon) float64 -89.25 -87.75 -86.25 ... 86.25 87.75 89.25\n",
       "Dimensions without coordinates: bnds\n",
       "Data variables:\n",
       "    time_bnds       (time, bnds) object 1950-01-01 00:00:00 ... 2000-01-01 00...\n",
       "    lat_bnds        (longitude, bnds) float64 -90.0 -88.5 -88.5 ... 88.5 90.0\n",
       "    lon_bnds        (latitude, bnds) float64 -1.0 1.0 1.0 ... 357.0 357.0 359.0\n",
       "    bias_corrected  (time, lat, lon) float64 1.393e-06 9.945e-07 ... 3.337e-07\n",
       "Attributes: (12/47)\n",
       "    Conventions:            CF-1.7 CMIP-6.2\n",
       "    activity_id:            CMIP\n",
       "    branch_method:          standard\n",
       "    branch_time_in_child:   0.0\n",
       "    branch_time_in_parent:  35405.0\n",
       "    contact:                Evgeny Volodin (volodinev@gmail.com)\n",
       "    ...                     ...\n",
       "    title:                  INM-CM4-8 output prepared for CMIP6\n",
       "    tracking_id:            hdl:21.14100/29935edf-7e6c-43a4-86a4-78a0cc729e0d\n",
       "    variable_id:            pr\n",
       "    variant_label:          r1i1p1f1\n",
       "    license:                CMIP6 model data produced by Lawrence Livermore P...\n",
       "    cmor_version:           3.4.0"
      ]
     },
     "execution_count": 19,
     "metadata": {},
     "output_type": "execute_result"
    }
   ],
   "source": [
    "ds"
   ]
  },
  {
   "cell_type": "code",
   "execution_count": 22,
   "id": "7eafff80-e5a1-41e9-98f8-9a64cf8b77d0",
   "metadata": {},
   "outputs": [
    {
     "data": {
      "text/plain": [
       "<matplotlib.collections.QuadMesh at 0x7f9f6586bd00>"
      ]
     },
     "execution_count": 22,
     "metadata": {},
     "output_type": "execute_result"
    },
    {
     "data": {
      "image/png": "[encoded data removed]",
      "text/plain": [
       "<Figure size 432x288 with 2 Axes>"
      ]
     },
     "metadata": {
      "needs_background": "light"
     },
     "output_type": "display_data"
    }
   ],
   "source": [
    "ds.bias_corrected[0].plot()"
   ]
  },
  {
   "cell_type": "code",
   "execution_count": null,
   "id": "f885b1c6-dbc5-4426-a83f-389f6ecdcfea",
   "metadata": {},
   "outputs": [],
   "source": []
  }
 ],
 "metadata": {
  "kernelspec": {
   "display_name": "bcsd",
   "language": "python",
   "name": "bcsd"
  },
  "language_info": {
   "codemirror_mode": {
    "name": "ipython",
    "version": 3
   },
   "file_extension": ".py",
   "mimetype": "text/x-python",
   "name": "python",
   "nbconvert_exporter": "python",
   "pygments_lexer": "ipython3",
   "version": "3.10.4"
  },
  "vscode": {
   "interpreter": {
    "hash": "7cb0d9cf9dc3c7941752ec699f17ea87b3213e0a8a7e82e2766758cf2b376e6d"
   }
  }
 },
 "nbformat": 4,
 "nbformat_minor": 5
}
